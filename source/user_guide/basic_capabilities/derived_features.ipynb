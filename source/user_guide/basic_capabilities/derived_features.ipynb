{
 "cells": [
  {
   "cell_type": "raw",
   "metadata": {
    "raw_mimetype": "text/restructuredtext"
   },
   "source": [
    ".. currentmodule:: howso.engine\n",
    "\n",
    "\n",
    "Derived Features\n",
    "================\n",
    ".. topic:: What is covered in this user guide\n",
    "\n",
    "    In this guide, you will learn the basics of derived features.  These features are not predicted or\n",
    "    generated directly, but are instead derived using the supplied code and values from other features.\n",
    "\n",
    "\n",
    "Objectives: what you will take away\n",
    "-----------------------------------\n",
    "- **Definitions & Understanding** of how derived features work and how they can be used to accomplish novel\n",
    "  tasks for both time-series and non time-series tasks\n",
    "- **How-To** use derived features in and out of time-series workflows\n",
    "\n",
    "Prerequisites: before you begin\n",
    "-------------------------------\n",
    "- You have successfully :doc:`installed Howso Engine <../../getting_started/installing>`\n",
    "- You have :doc:`loaded, configured, trained, and analyzed data <basic_workflow>`\n",
    "\n",
    "Data\n",
    "----\n",
    "Our example dataset for this guide is the well-known ``Adult`` dataset, accessible via the ``pmlb`` package installed\n",
    "in the prerequisites using the ``fetch_data()`` function.\n",
    "\n",
    "Concepts & Terminology\n",
    "----------------------\n",
    "This guide will explain the concept of :ref:`derived_features`, which include both **derived action features** and **derived context\n",
    "features**. Derived features allow you extra control to create additional features based on existing features. This provides additional\n",
    "feature engineering flexibility. To follow along, you should be familiar with the following concepts:\n",
    "\n",
    "- :ref:`trainee`\n",
    "- :ref:`derived_features`\n",
    "- :ref:`react`\n",
    "- :ref:`case`\n",
    "- :ref:`feature`\n",
    "- :ref:`action_features`\n",
    "- :ref:`context_features`\n",
    "- :doc:`Feature Attributes <feature_attributes>`\n",
    "\n",
    "\n",
    "Derived Feature Codes\n",
    "^^^^^^^^^^^^^^^^^^^^^\n",
    "The way in which each derived feature is derived is determined by what is called a **derived feature code**.  This is a snippet of\n",
    "`Amalgam <https://github.com/howsoai/amalgam>`_ style code that determines how the derivation should be performed.  One such example\n",
    "of a derived feature code is:\n",
    "\n",
    ".. code-block::\n",
    "\n",
    "   (* #hours-per-week 0 52)\n",
    "\n",
    "\n",
    "This would use the multiplication opcode (``*``) to derive a feature that is 52 times the ``\"hours-per-week\"`` feature for each case.\n",
    "For a full list of opcodes that are available for derived feature codes, refer to the `Amalgam Language Documentation <https://howsoai.github.io/amalgam/>`_.\n",
    "\n",
    ".. note::\n",
    "\n",
    "    When referencing feature values in a derived feature code (e.g., ``#hours-per-week 0``) the value returned is offset by the number\n",
    "    which follows the reference.  When not using a time-series Trainee, this value can only be 0.  If you are using a time-series Trainee,\n",
    "    however, this value can be larger which will then refer to that many cases previously in the time-series (e.g., ``#hours-per-week 1``\n",
    "    would refer to the previous case in a time-series, if it were part of a time-series).\n",
    "\n",
    "\n",
    "How-To Guide\n",
    "------------\n",
    "For this guide, we will add a feature called ``\"hours-per-year\"`` to the ``Adult`` dataset.  This dataset already contains a feature\n",
    "called ``\"hours-per-week\"``, so the relationship between the feature we have and the feature we want is mathematical in nature, and\n",
    "so should not be broken when making predictions.  Adding derived features to a :class:`~Trainee` can be done either before or after\n",
    "training.\n",
    "\n",
    "\n",
    "Adding Derived Features Before Training\n",
    "^^^^^^^^^^^^^^^^^^^^^^^^^^^^^^^^^^^^^^^\n",
    "To add a derived feature to a :class:`~Trainee` before training, simply modify the feature attributes:"
   ]
  },
  {
   "cell_type": "code",
   "execution_count": null,
   "metadata": {},
   "outputs": [],
   "source": [
    "import pandas as pd\n",
    "from pmlb import fetch_data\n",
    "\n",
    "from howso.engine import Trainee, get_client\n",
    "from howso.utilities import infer_feature_attributes\n",
    "\n",
    "df = fetch_data('adult').sample(1_000)\n",
    "features = infer_feature_attributes(df)\n",
    "hpy_features = {\n",
    "    \"type\": \"continuous\",\n",
    "    \"auto_derive_on_train\": {\"code\": \"(* #hours-per-week 0 52)\"},\n",
    "}\n",
    "features[\"hours-per-year\"] = hpy_features\n",
    "\n",
    "print(features.to_dataframe())\n",
    "\n",
    "client = get_client()\n",
    "trainee = Trainee(features=features)\n",
    "trainee.train(df)\n",
    "trainee.analyze()"
   ]
  },
  {
   "cell_type": "raw",
   "metadata": {
    "raw_mimetype": "text/restructuredtext",
    "vscode": {
     "languageId": "raw"
    }
   },
   "source": [
    "That's quite a lot of code, so let's break it down.  After inferring feature attributes, we set up the feature attributes for our derived feature.\n",
    "\n",
    ".. code-block:: python\n",
    "\n",
    "    hpy_features = {\n",
    "        \"type\": \"continuous\",\n",
    "        \"auto_derive_on_train\": {\"code\": \"(* #hours-per-week 0 52)\"}\n",
    "    }\n",
    "\n",
    "First, we note that this feature is continuous.  Second, we set this feature to be auto-derived on train.  This means that the feature will be computed\n",
    "using its derived feature code as soon as cases are trained into the model.  If we did not do this, we would have to manually specify it in the ``derived_features``\n",
    "parameter to :meth:`Trainee.train` to ensure that the feature is created by the :class:`~Trainee`.  Finally, we set the derived feature code.  This is a\n",
    "small piece of Amalgam-like code which determines how to derive the feature.  In this case, we use the multiplication opcode (``*``) to multiply each case's\n",
    "value of hours-per-week (``#hours-per-week 0``, where the 0 is an offset and means the current case) by 52, the number of weeks in a year.\n",
    "\n",
    "\n",
    "Adding Derived Features After Training\n",
    "^^^^^^^^^^^^^^^^^^^^^^^^^^^^^^^^^^^^^^\n",
    "\n",
    "The process of adding a derived feature to a :class:`~Trainee` that has already been trained is quite simple.  It can be handled with a single call to\n",
    ":meth:`Trainee.add_feature`:"
   ]
  },
  {
   "cell_type": "code",
   "execution_count": 2,
   "metadata": {},
   "outputs": [],
   "source": [
    "features = infer_feature_attributes(df)\n",
    "trainee = Trainee(features=features)\n",
    "trainee.train(df)\n",
    "trainee.analyze()\n",
    "\n",
    "hpy_features = {\n",
    "    \"type\": \"continuous\",\n",
    "    \"auto_derive_on_train\": {\"code\": \"(* #hours-per-week 0 52)\"},\n",
    "}\n",
    "trainee.add_feature(\"hours-per-year\", feature_attributes=hpy_features)"
   ]
  },
  {
   "cell_type": "raw",
   "metadata": {
    "raw_mimetype": "text/restructuredtext"
   },
   "source": [
    "Using Derived Features in Reacts\n",
    "^^^^^^^^^^^^^^^^^^^^^^^^^^^^^^^^\n",
    "Once a model has one or more derived features, they can be used in reacts:\n"
   ]
  },
  {
   "cell_type": "code",
   "execution_count": null,
   "metadata": {},
   "outputs": [],
   "source": [
    "reaction = trainee.react(\n",
    "    contexts=df[features.get_names(without=[\"hours-per-week\"])],\n",
    "    action_features=[\"hours-per-week\", \"hours-per-year\"],\n",
    "    derived_action_features=[\"hours-per-year\"],\n",
    ")\n",
    "print(reaction[\"action\"])\n",
    "\n",
    "reaction = trainee.react(\n",
    "    contexts=df[features.get_names(without=[\"target\"])],\n",
    "    derived_context_features=[\"hours-per-year\"],\n",
    "    action_features=[\"target\"]\n",
    ")\n",
    "print(reaction[\"action\"])"
   ]
  },
  {
   "cell_type": "raw",
   "metadata": {
    "raw_mimetype": "text/restructuredtext"
   },
   "source": [
    "Note that both ``derived_action_features`` and ``derived_context_features`` must be a subset of ``action_features`` and ``context_features``, respectively.\n",
    "A derived context feature is derived from the contexts that are being input to a :meth:`~Trainee.react`, while a derived action feature is derived from the\n",
    "actions that are output from a :meth:`~Trainee.react`.\n",
    "\n",
    "\n",
    "Derived Features for Time-Series\n",
    "^^^^^^^^^^^^^^^^^^^^^^^^^^^^^^^^\n",
    "Derived features are used in time-series :class:`~Trainee` s and are automatically created by :func:`~howso.utilities.infer_feature_attributes` when the\n",
    "``time_feature_name`` and ``id_feature_name`` parameters are supplied.  When :meth:`Trainee.react_series` is used, the lag features are used as derived\n",
    "context features and the delta/rate features are used as derived action features.  Since :meth:`Trainee.react` supports more explainability details than\n",
    ":meth:`Trainee.react_series`, this can be useful to replicate the behavior of :meth:`~Trainee.react_series` using :meth:`~Trainee.react`.\n",
    "\n",
    "For more information on time-series, see the API Reference and the :doc:`time-series user guide <../advanced_capabilities/time_series>`\n",
    "\n",
    "\n",
    "API References\n",
    "--------------\n",
    "- :py:class:`~Trainee`\n",
    "- :py:meth:`Trainee.train`\n",
    "- :py:meth:`Trainee.analyze`\n",
    "- :py:meth:`Trainee.react`\n",
    "- :py:meth:`~howso.utilities.infer_feature_attributes`\n",
    "- :py:meth:`Trainee.react_series`\n",
    "\n"
   ]
  }
 ],
 "metadata": {
  "kernelspec": {
   "display_name": "docs-3.12",
   "language": "python",
   "name": "python3"
  },
  "language_info": {
   "codemirror_mode": {
    "name": "ipython",
    "version": 3
   },
   "file_extension": ".py",
   "mimetype": "text/x-python",
   "name": "python",
   "nbconvert_exporter": "python",
   "pygments_lexer": "ipython3",
   "version": "3.12.9"
  }
 },
 "nbformat": 4,
 "nbformat_minor": 2
}
