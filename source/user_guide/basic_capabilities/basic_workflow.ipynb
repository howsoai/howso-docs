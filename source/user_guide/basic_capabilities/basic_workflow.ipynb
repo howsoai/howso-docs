{
 "cells": [
  {
   "cell_type": "raw",
   "metadata": {
    "raw_mimetype": "text/restructuredtext"
   },
   "source": [
    ".. currentmodule:: howso.engine\n",
    "\n",
    "Basic Workflow\n",
    "==============\n",
    ".. topic:: What is covered in this user guide.\n",
    "\n",
    "   In this guide, you will learn the basics of using the Howso Engine.\n",
    "\n",
    "Objectives: what you will take away\n",
    "-----------------------------------\n",
    "- **Definitions & an understanding** of terminology unique to Howso Engine and what the basic workflow of using the Howso Engine looks like.\n",
    "- **How-To** import data, map features, train, analyze, and make inferences using the Howso Engine.\n",
    "\n",
    "Prerequisites: before you begin\n",
    "-------------------------------\n",
    "**Installation**\n",
    "\n",
    "- You've successfully :doc:`installed  Howso Engine <../../getting_started/installing>`\n",
    "\n",
    "- You've installed these libraries:\n",
    "\n",
    "  - `pandas <https://pandas.pydata.org/>`__\n",
    "  - `pmlb <https://github.com/EpistasisLab/pmlb>`__\n",
    "\n",
    "Data\n",
    "----\n",
    "Our example dataset for this recipe is the well known ``Adult`` dataset. It is accessible via the `pmlb <https://github.com/EpistasisLab/pmlb>`__ package installed earlier. We use the ``fetch_data()`` function to retrieve the dataset in Step 1 below.\n",
    "\n",
    "\n",
    "Concepts & Terminology\n",
    "----------------------\n",
    "Howso Engine is a generalized Machine Learning (ML) and Artificial Intelligence platform that creates powerful decision-making models that are fully explainable, auditable, and editable. Howso Engine uses Instance-Based Machine Learning which stores instances, i.e., data points, in memory and makes predictions about new instances given their relationship to existing instances. This technology harnesses a fast spatial query system and information theory for performance and accuracy.\n",
    "\n",
    "- :ref:`trainee`\n",
    "- :ref:`train`\n",
    "- :ref:`analyze`\n",
    "- :ref:`react`\n",
    "- :ref:`case`\n",
    "- :ref:`feature`\n",
    "- :ref:`action_features`\n",
    "- :ref:`context_features`\n",
    "- :doc:`feature_attributes`\n",
    "\n",
    "Notebook Recipe\n",
    "---------------\n",
    "The following recipe will demonstrate some of the capabilities demonstrated in this guide as well as a few additional capabilities.\n",
    "\n",
    "- :download:`Engine Intro <https://github.com/howsoai/howso-engine-recipes/blob/main/recipes/engine-intro.ipynb>`\n",
    "\n",
    "How-To Guide\n",
    "------------\n",
    "Here we will walk through the steps of what a basic workflow might look like when using Howso Engine. First, we will load data into a pandas DataFrame for use with Howso Engine. Then, we will use the Howso Engine to map attributes of the features, train a trainee, analyze, and react."
   ]
  },
  {
   "cell_type": "code",
   "execution_count": null,
   "metadata": {},
   "outputs": [],
   "source": [
    "import pandas as pd\n",
    "from pmlb import fetch_data\n",
    "\n",
    "from howso.engine import Trainee\n",
    "from howso.utilities import infer_feature_attributes"
   ]
  },
  {
   "cell_type": "raw",
   "metadata": {
    "raw_mimetype": "text/restructuredtext"
   },
   "source": [
    "Step 1 - Load Data and Infer Feature Attributes\n",
    "^^^^^^^^^^^^^^^^^^^^^^^^^^^^^^^^^^^^^^^^^^^^^^^^\n",
    "First, we load the ``adult`` dataset from the PMLB repository.  This dataset consists of 15 features, which will have their \n",
    "attributes inferred by :func:`~howso.utilities.infer_feature_attributes`.  This will determine attributes about each feature \n",
    "including bounds, allowed values, and feature type.  Before the following steps, the inferred feature attributes should be \n",
    "inspected to ensure their correctness."
   ]
  },
  {
   "cell_type": "code",
   "execution_count": null,
   "metadata": {},
   "outputs": [],
   "source": [
    "df = fetch_data('adult').sample(1_000)\n",
    "features = infer_feature_attributes(df)\n",
    "\n",
    "print(features.to_dataframe())"
   ]
  },
  {
   "cell_type": "raw",
   "metadata": {
    "raw_mimetype": "text/restructuredtext"
   },
   "source": [
    "Step 2 - Create the `Trainee`, Train, and Analyze\n",
    "^^^^^^^^^^^^^^^^^^^^^^^^^^^^^^^^^^^^^^^^^^^^^^^^^\n",
    "A `Trainee` is similar in function to a model in other machine learning paradigms, but is not locked to any particular use-case \n",
    "or to predicting a particular feature.  Note that both the data and the feature attributes are supplied at this time.  Since the \n",
    "feature attributes are essentially a part of the training data it is extremely important to ensure they are correct."
   ]
  },
  {
   "cell_type": "code",
   "execution_count": null,
   "metadata": {},
   "outputs": [],
   "source": [
    "trainee = Trainee(features=features)\n",
    "trainee.train(df)"
   ]
  },
  {
   "cell_type": "raw",
   "metadata": {
    "raw_mimetype": "text/restructuredtext"
   },
   "source": [
    "After the data are trained, we can :meth:`Trainee.analyze` the `Trainee`.  This method will determine the best \n",
    "hyperparameters for the data and cache some important values that are used to ensure the highest model performance.  By default, \n",
    ":meth:`Trainee.analyze` will optimize the `Trainee`'s parameters for any possible target feature."
   ]
  },
  {
   "cell_type": "code",
   "execution_count": null,
   "metadata": {},
   "outputs": [],
   "source": [
    "trainee.analyze()"
   ]
  },
  {
   "cell_type": "raw",
   "metadata": {
    "raw_mimetype": "text/restructuredtext"
   },
   "source": [
    "Step 3 - React\n",
    "^^^^^^^^^^^^^^\n",
    "Now that the `Trainee` has been prepared, it is ready for use.  A common use-case, determining how well a model performs when \n",
    "predicting the dataset, can be done with a single call to the `Trainee`:\n"
   ]
  },
  {
   "cell_type": "code",
   "execution_count": null,
   "metadata": {},
   "outputs": [],
   "source": [
    "prediction_stats = trainee.get_prediction_stats(\n",
    "    action_feature=\"target\",\n",
    "    details={\"prediction_stats\": True},\n",
    ")\n",
    "print(prediction_stats)"
   ]
  },
  {
   "cell_type": "raw",
   "metadata": {
    "raw_mimetype": "text/restructuredtext"
   },
   "source": [
    "An `action_feature` is the same as a target feature or dependent variable.  This call will compute a number of different statistics, \n",
    "including accuracy, precision, recall, :math:`R^2`, and others.  Rather than performing a train-test split, which is common with \n",
    "other machine learning techniques, the `Trainee` uses leave-one-out to provide a more comprehensive understanding of the data.  \n",
    "More traditional approaches can still be used with the :meth:`Trainee.react` method.\n",
    "\n",
    "API References\n",
    "--------------\n",
    "- :py:func:`~howso.utilities.infer_feature_attributes`\n",
    "- :py:class:`~Trainee`\n",
    "    - :py:meth:`Trainee.train`\n",
    "    - :py:meth:`Trainee.analyze`\n",
    "    - :py:meth:`Trainee.react_aggregate`\n",
    "    - :py:meth:`Trainee.react`\n",
    "    - :py:meth:`Trainee.react_into_features`"
   ]
  }
 ],
 "metadata": {
  "language_info": {
   "name": "python"
  }
 },
 "nbformat": 4,
 "nbformat_minor": 2
}
