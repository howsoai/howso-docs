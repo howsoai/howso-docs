{
 "cells": [
  {
   "cell_type": "raw",
   "metadata": {
    "raw_mimetype": "text/restructuredtext"
   },
   "source": [
    ".. currentmodule:: howso.engine\n",
    "\n",
    "Predictions\n",
    "===========\n",
    ".. topic:: What is covered in this user guide.\n",
    "\n",
    "   In this guide, you will learn the basics of using the Howso Engine for **Regression** and  **Classification** in\n",
    "   order to predict outcomes such as taxi fares, stock prices, health metrics such as body fat percentages, or as in\n",
    "   this example, the average miles per gallon (MPG) or Fuel Type of a vehicle based on capabilities and physical\n",
    "   attributes of the vehicle.\n",
    "\n",
    "Objectives: what you will take away\n",
    "-----------------------------------\n",
    "- **Definitions & an understanding** of basic regression, classification, continuous vs categorical/nominal Action Features, :class:`Trainee`, :meth:`~Trainee.react`,  :meth:`~Trainee.react_aggregate`.\n",
    "- **How-To** perform a basic regression or classification analysis using the Howso Engine to predict the Highway MPG or Fuel Type based on vehicle Context Features.\n",
    "\n",
    "Prerequisites: before you begin\n",
    "-------------------------------\n",
    "- You've successfully :doc:`installed  Howso Engine <../../getting_started/installing>`\n",
    "- You have an understanding of Howso's :doc:`basic workflow <../basic_capabilities/basic_workflow>`.\n",
    "\n",
    "\n",
    "Data\n",
    "----\n",
    "\n",
    ":download:`Download </_assets/vehicles.csv>` 23,606 vehicles from 1984 - 2022, including make, model, MPG, drive-type, size, class and fuel type.\n",
    "\n",
    "Concepts & Terminology\n",
    "----------------------\n",
    "**Regression** - is used to describe the relationship between one or more Context Features and a **continuous** numeric\n",
    "Action Feature, as in this guide predicting the **Highway MPG** of a vehicle based on its physical characteristics and\n",
    "year manufactured.\n",
    "\n",
    "**Classification** - is used to describe the relationship between one or more Context Features and a **categorical/nominal**\n",
    "Action Feature, as in this guide predicting the **FuelType** of a vehicle based on its physical characteristics and year\n",
    "manufactured. For Howso Engine, the action feature may be left in string format and does not need to be converted to numeric format.\n",
    "\n",
    "**Trainee and React** - In this simple example, we will be creating a :ref:`trainee`\n",
    "that we can be used :ref:`react` to new case data, such as a new car we might be looking to build.\n",
    "\n",
    "**Train and Analyze** - To create a :class:`Trainee`, we will first load data, define :doc:`Feature Attributes <feature_attributes>`\n",
    "of the data and :ref:`train` the :class:`Trainee`.  The :class:`Trainee` can be used for many tasks,\n",
    "but because we know exactly what we want to do, we will :ref:`analyze` to improve the\n",
    "performance of our trainee by defining the specific set of :ref:`context_features`\n",
    "that we know we want to use to predict an :ref:`action_features`. The action\n",
    "feature in this example will be **Highway MPG**.\n",
    "\n",
    "**Evaluating the Trainee** - To understand the accuracy of the trainee for our tasks, we can use the built-in :meth:`Trainee.react_aggregate`.\n",
    "Since we are not using a train-test split approach in this example, we will use the :meth:`~Trainee.react_aggregate` method, which\n",
    "performs a :meth:`~Trainee.react` on each of the cases that is trained into the model using a leave-one-out approach.\n",
    "\n",
    "That method allows us to use prediction stats to evaluate regression accuracy statistics such as:\n",
    "\n",
    "- **R-Squared** - :math:`R^2` is a value that represents how well the predictions fit the data, the closer to 1.0 the better the fit\n",
    "- **Mean Absolute Error (MAE)** average absolute error between actual and predicted values over the whole dataset, and relative to the scale of what is being measured\n",
    "- **Root Mean Square Error (RMSE)** mean square root of errors over whole dataset, similar to MAE and relative to scale of what is measured\n",
    "\n",
    "Or classification metrics including those derived from the `true positive (TP), true negative (TN), false positive (FP), false negative (FN) <https://en.wikipedia.org/wiki/Confusion_matrix>`__ metrics:\n",
    "\n",
    "- **Accuracy** - Describes the model performance across all classes and is comprised of the ratio of number of correct predictions to the total number of predictions.\n",
    "  - (TP+TN)/(TP+FP+FN+TN).\n",
    "- **Precision** - Describes what proportion of positive predictions were correct.\n",
    "  - (TP+TN)/(TP+FP+FN+TN).\n",
    "- **Recall** - Describes what proportion of actual positives were predicted correctly.\n",
    "  - (TN)/(TN+FP).\n",
    "- **Mean Absolute Error (MAE)** average absolute error between actual and predicted Categorical Action Probabilities (CAP) over the whole dataset.\n",
    "  - CAP is the prediction probability for each class of the action feature.\n",
    "\n",
    "**React to New Cases** - Lastly, we will simply request the :class:`Trainee` to :meth:`~Trainee.react` to new cases we\n",
    "present to it, giving us predictions of what the **Highway MPG** would be.\n",
    "\n",
    "How-To Guide\n",
    "------------\n",
    "We want to predict the **Highway MPG** and the **Fuel Type** of a new vehicle based on a :class:`Trainee` we create from the vehicles dataset. In this guide, we will directly\n",
    "show the code for **Highway MPG** prediction while including the code for **Fuel Type** as comments wherever the code differs.\n",
    "\n",
    "Step 1 - Load Libraries\n",
    "^^^^^^^^^^^^^^^^^^^^^^^\n"
   ]
  },
  {
   "cell_type": "code",
   "execution_count": 1,
   "metadata": {},
   "outputs": [],
   "source": [
    "import pandas as pd\n",
    "import matplotlib.pyplot as plt\n",
    "\n",
    "from howso.engine import Trainee\n",
    "from howso.utilities import infer_feature_attributes\n"
   ]
  },
  {
   "cell_type": "raw",
   "metadata": {
    "raw_mimetype": "text/restructuredtext"
   },
   "source": [
    "Step 2 - Load Data\n",
    "^^^^^^^^^^^^^^^^^^\n",
    "Using a pandas DataFrame, load the vehicles dataset from the csv file. We are going to drop make/model features because that is kinda cheating... Make sure it's what you expect, take a quick look at some of the data and use describe to make sure it has the shape you'd expect.\n"
   ]
  },
  {
   "cell_type": "code",
   "execution_count": null,
   "metadata": {},
   "outputs": [],
   "source": [
    "df = pd.read_csv(\"../../_assets/vehicles.csv\")\n",
    "df = df.drop(['Make', 'Model'], axis=1)\n",
    "df.describe()"
   ]
  },
  {
   "cell_type": "raw",
   "metadata": {
    "raw_mimetype": "text/restructuredtext"
   },
   "source": [
    "Step 3 - Define Features\n",
    "^^^^^^^^^^^^^^^^^^^^^^^^\n",
    "Howso can auto-detect features from data, using :meth:`~howso.utilities.infer_feature_attributes` but it is a best practice to review and configure.  In this tutorial, we will proceed as if the features were not detected as we want them to be, so we will make necessary adjustments.\n",
    "\n",
    ".. note::\n",
    "\n",
    "    Howso automatically determines whether to perform a **regression** or **classification** task by the feature attributes of the action feature you are trying to\n",
    "    predict, specifically the feature `type` as shown below, thus it is **very important** to make sure that the feature types are correct.\n"
   ]
  },
  {
   "cell_type": "code",
   "execution_count": 3,
   "metadata": {},
   "outputs": [],
   "source": [
    "# Auto detect features\n",
    "features = infer_feature_attributes(df)\n",
    "\n",
    "# For Regression, we will set `HighwayMPG` feature type to continuous\n",
    "features['HighwayMPG']['type'] = 'continuous'\n",
    "\n",
    "# For Classification, we will set `FuelType` feature type to nominal\n",
    "features['FuelType']['type'] = 'nominal'\n",
    "\n",
    "# We will also set these context features to continuous\n",
    "features['CityMPG']['type'] = 'continuous'\n",
    "features['Year']['type'] = 'continuous'\n",
    "features['PassengerVolume']['type'] = 'continuous'\n",
    "features['LuggageVolume']['type'] = 'continuous'"
   ]
  },
  {
   "cell_type": "raw",
   "metadata": {
    "raw_mimetype": "text/restructuredtext"
   },
   "source": [
    "Step 4 - Create a Trainee, Train, and Analyze\n",
    "^^^^^^^^^^^^^^^^^^^^^^^^^^^^^^^^^^^^^^^^^^^^^\n",
    "Next we will create a :class:`Trainee` and :meth:`~Trainee.train` based on data we have loaded into the DataFrame from the vehicles.csv.\n"
   ]
  },
  {
   "cell_type": "code",
   "execution_count": 4,
   "metadata": {},
   "outputs": [],
   "source": [
    "# Create a new Trainee, specify features\n",
    "trainee = Trainee(features=features)\n",
    "\n",
    "# Train trainee\n",
    "trainee.train(df)\n",
    "trainee.analyze()"
   ]
  },
  {
   "cell_type": "raw",
   "metadata": {
    "raw_mimetype": "text/restructuredtext"
   },
   "source": [
    "Step 5 - Generate Accuracy Metrics\n",
    "^^^^^^^^^^^^^^^^^^^^^^^^^^^^^^^^^^\n",
    "Review the accuracy of the :class:`Trainee` by using the built-in :meth:`~Trainee.react_aggregate` method, which performs a :meth:`~Trainee.react` on each of the cases that is trained into the model.  Then we can evaluate accuracy with the returned R-Squared (:math:`R^2`), Mean Absolute Error (MAE) and Root Mean Square Error (RMSE) metrics since this is a regression task.\n"
   ]
  },
  {
   "cell_type": "code",
   "execution_count": null,
   "metadata": {},
   "outputs": [],
   "source": [
    "# Recommended metrics\n",
    "stats = trainee.react_aggregate(\n",
    "    action_feature=\"HighwayMPG\",\n",
    "    details={\n",
    "        'prediction_stats': True,\n",
    "        'selected_prediction_stats': ['rmse', 'spearman_coeff', 'r2', 'mae']\n",
    "    }\n",
    ")\n",
    "stats"
   ]
  },
  {
   "cell_type": "raw",
   "metadata": {
    "raw_mimetype": "text/restructuredtext"
   },
   "source": [
    "Step 6 - Review Accuracy Metrics\n",
    "^^^^^^^^^^^^^^^^^^^^^^^^^^^^^^^^\n",
    "We see the :class:`Trainee` has a very good fit for predicting **Highway MPG** with an :math:`R^2` of 0.99, which shows the :class:`Trainee` should be effective at predicting new cases of **Highway MPG**.\n"
   ]
  },
  {
   "cell_type": "code",
   "execution_count": 6,
   "metadata": {},
   "outputs": [],
   "source": [
    "data = {\n",
    "    'Year': [2022],\n",
    "    'DriveType': ['All-Wheel Drive'],\n",
    "    'FuelType' : ['Premium'],\n",
    "    'VehicleClass': ['Midsize Cars'],\n",
    "    'CityMPG': [21],\n",
    "    'PassengerVolume': [95],\n",
    "    'LuggageVolume': [23]\n",
    "}\n",
    "\n",
    "test_case = pd.DataFrame(data)\n",
    "\n",
    "result = trainee.react(\n",
    "    test_case,\n",
    "    action_features=[\"HighwayMPG\"],\n",
    "    context_features=features.get_names(without=[\"HighwayMPG\"]),\n",
    ")  "
   ]
  },
  {
   "cell_type": "raw",
   "metadata": {
    "raw_mimetype": "text/restructuredtext"
   },
   "source": [
    ".. note:: The method :meth:`Trainee.predict` can also be used for predictions instead of :meth:`Trainee.react`. :meth:`Trainee.predict` serves as a convenience function that eliminates the extra output if all you want is the prediction.\n",
    "\n",
    "Step 8 - Review Prediction\n",
    "^^^^^^^^^^^^^^^^^^^^^^^^^^\n",
    "Reviewing the prediction shows **HighwayMPG** of 29."
   ]
  },
  {
   "cell_type": "code",
   "execution_count": null,
   "metadata": {},
   "outputs": [],
   "source": [
    "result['action']"
   ]
  },
  {
   "cell_type": "raw",
   "metadata": {
    "raw_mimetype": "text/restructuredtext"
   },
   "source": [
    "API References\n",
    "--------------\n",
    "- :py:class:`~Trainee`\n",
    "- :py:meth:`Trainee.train`\n",
    "- :py:meth:`Trainee.analyze`\n",
    "- :py:meth:`Trainee.react`\n",
    "- :py:meth:`Trainee.react_aggregate`\n",
    "- :py:meth:`Trainee.predict`"
   ]
  }
 ],
 "metadata": {
  "kernelspec": {
   "display_name": "docs-3.12",
   "language": "python",
   "name": "python3"
  },
  "language_info": {
   "codemirror_mode": {
    "name": "ipython",
    "version": 3
   },
   "file_extension": ".py",
   "mimetype": "text/x-python",
   "name": "python",
   "nbconvert_exporter": "python",
   "pygments_lexer": "ipython3",
   "version": "3.12.9"
  }
 },
 "nbformat": 4,
 "nbformat_minor": 2
}
