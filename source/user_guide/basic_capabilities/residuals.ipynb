{
 "cells": [
  {
   "cell_type": "raw",
   "metadata": {
    "editable": true,
    "raw_mimetype": "text/restructuredtext",
    "slideshow": {
     "slide_type": ""
    },
    "tags": []
   },
   "source": [
    ".. currentmodule:: howso.engine\n",
    "\n",
    "Residuals\n",
    "=========\n",
    ".. topic:: What is covered in this user guide.\n",
    "\n",
    "   In this guide, you will learn the basics of using the Howso Engine to retrieve the :ref:`residual` s, which is the core measurement of error in Howso. Residuals play an important\n",
    "   role in Howso, from determining uncertainties to gauging the accuracy of the predictions.\n",
    "\n",
    "Objectives: what you will take away\n",
    "-----------------------------------\n",
    "- **How-To** Retrieve global and local residuals.\n",
    "\n",
    "Prerequisites: before you begin\n",
    "-------------------------------\n",
    "- You've successfully :doc:`installed  Howso Engine <../../getting_started/installing>`\n",
    "- You have an understanding of Howso's :doc:`basic workflow <../basic_capabilities/basic_workflow>`.\n",
    "\n",
    "\n",
    "Data\n",
    "----\n",
    "Our example dataset for this recipe is the well known ``Adult`` dataset. It is accessible via the `pmlb <https://github.com/EpistasisLab/pmlb>`__ package installed earlier. We use the ``fetch_data()`` function to retrieve the dataset in Step 1 below.\n",
    "\n",
    "\n",
    "Concepts & Terminology\n",
    "----------------------\n",
    "\n",
    "- :ref:`residual`\n",
    "- :ref:`robust`\n",
    "\n",
    "How-To Guide\n",
    "------------\n",
    "\n",
    "Setup\n",
    "^^^^^\n",
    "The user guide assumes you have created and setup a :class:`~Trainee` as demonstrated in :doc:`basic workflow <../basic_capabilities/basic_workflow>`.\n",
    "The created :class:`~Trainee` will be referenced as ``trainee`` in the sections below."
   ]
  },
  {
   "cell_type": "code",
   "execution_count": null,
   "metadata": {},
   "outputs": [],
   "source": [
    "import pandas as pd\n",
    "from pmlb import fetch_data\n",
    "\n",
    "from howso.engine import Trainee\n",
    "from howso.utilities import infer_feature_attributes\n",
    "\n",
    "df = fetch_data('adult').sample(1_000)\n",
    "features = infer_feature_attributes(df)\n",
    "\n",
    "trainee = Trainee(features=features)\n",
    "trainee.train(df)\n",
    "trainee.analyze()\n",
    "\n",
    "features.to_dataframe()"
   ]
  },
  {
   "cell_type": "raw",
   "metadata": {
    "raw_mimetype": "text/restructuredtext",
    "vscode": {
     "languageId": "raw"
    }
   },
   "source": [
    "Local Residuals\n",
    "^^^^^^^^^^^^^^^\n",
    "\n",
    "Local metrics are retrieved through using :py:meth:`Trainee.react`.\n",
    "Both :ref:`robust` and non-robust (full) versions are available, although full\n",
    "is recommended for residuals."
   ]
  },
  {
   "cell_type": "code",
   "execution_count": null,
   "metadata": {},
   "outputs": [],
   "source": [
    "# Get local full residuals\n",
    "details = {'feature_full_residuals_for_case': True}\n",
    "results = trainee.react(\n",
    "    df.iloc[[-1]],\n",
    "    context_features=features.get_names(without=[\"target\"]),\n",
    "    action_features=[\"target\"],\n",
    "    details=details\n",
    ")\n",
    "\n",
    "residuals = results['details']['feature_full_residuals_for_case']\n",
    "residuals"
   ]
  },
  {
   "cell_type": "raw",
   "metadata": {
    "raw_mimetype": "text/restructuredtext",
    "vscode": {
     "languageId": "raw"
    }
   },
   "source": [
    "Global Residuals\n",
    "^^^^^^^^^^^^^^^^\n",
    "\n",
    "Howso has the ability to retrieve both :doc:`local vs global <../concepts/global_vs_local>` metrics.\n",
    "Global metrics are retrieved through using :py:meth:`Trainee.react_aggregate`.  Both :ref:`robust` and non-robust (full) versions are also available."
   ]
  },
  {
   "cell_type": "code",
   "execution_count": null,
   "metadata": {},
   "outputs": [],
   "source": [
    "# Get global full residuals\n",
    "residuals = trainee.react_aggregate(\n",
    "    details={'feature_full_residuals': True},\n",
    ")\n",
    "residuals"
   ]
  },
  {
   "cell_type": "raw",
   "metadata": {
    "raw_mimetype": "text/restructuredtext",
    "vscode": {
     "languageId": "raw"
    }
   },
   "source": [
    "API References\n",
    "--------------\n",
    "- :py:class:`~Trainee`\n",
    "- :py:meth:`Trainee.train`\n",
    "- :py:meth:`Trainee.analyze`\n",
    "- :py:meth:`Trainee.react`\n",
    "- :py:meth:`Trainee.react_into_features`\n",
    "- :py:meth:`Trainee.react_aggregate`"
   ]
  }
 ],
 "metadata": {
  "kernelspec": {
   "display_name": "docs-3.12",
   "language": "python",
   "name": "python3"
  },
  "language_info": {
   "codemirror_mode": {
    "name": "ipython",
    "version": 3
   },
   "file_extension": ".py",
   "mimetype": "text/x-python",
   "name": "python",
   "nbconvert_exporter": "python",
   "pygments_lexer": "ipython3",
   "version": "3.12.9"
  }
 },
 "nbformat": 4,
 "nbformat_minor": 4
}
