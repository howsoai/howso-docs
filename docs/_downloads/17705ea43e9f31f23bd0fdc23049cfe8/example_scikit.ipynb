{
  "cells": [
    {
      "cell_type": "code",
      "execution_count": null,
      "metadata": {
        "collapsed": false
      },
      "outputs": [],
      "source": [
        "%matplotlib inline"
      ]
    },
    {
      "cell_type": "markdown",
      "metadata": {},
      "source": [
        "\n\n# Scikit Example\n\nAn example to demonstrate the usage of Howso in \"traditional\" ML ways.\n\nThe Howso python package extends the `scikit-learn`_ Estimator via the following classes:\n\n* :class:`howso.scikit.HowsoEstimator`\n* :class:`howso.scikit.HowsoClassifier`\n* :class:`howso.scikit.HowsoRegressor`\n\nHowsoEstimator provides users with a Python interface that follows the conventions of sklearn estimators. For use\nof Howso's functionality use :class:`howso.engine.Trainee`.\n\nThis is a simple example on how to use the :class:`howso.scikit.HowsoRegressor` which extends the\n:class:`howso.scikit.HowsoEstimator` to fit data and make predictions based on that data.\n\n"
      ]
    },
    {
      "cell_type": "code",
      "execution_count": null,
      "metadata": {
        "collapsed": false
      },
      "outputs": [],
      "source": [
        "import os\nimport pandas as pd\n\nfrom pprint import pprint\nfrom howso.scikit import HowsoClassifier\nfrom sklearn.preprocessing import LabelEncoder\nfrom sklearn.model_selection import train_test_split\n# sphinx_gallery_thumbnail_path = '_static/gallery/scikit.png'\n\n\n# Get path of breast cancer data included in the python package.\ndata_path = os.path.join(\"breast_cancer.csv\")\n\n# Read in the data.\nprint(\"Reading breast cancer data set.\")\ndf = pd.read_csv(data_path)\n\n# Split the dataset into the feature (X) and targets (y)\nX = df.drop('y', axis=1).values.astype(float)\ny = df['y'].values.astype(float)\n\nle = LabelEncoder()\nle.fit(df['y'])\ny = le.transform(df['y'])\n\nprint(f\"Target values encoded from {list(le.classes_)} to \"\n      f\"{list(le.transform(le.classes_))}.\")\n\n# Split the dataset into an 80/20 train/test set.\nX_train, X_test, y_train, y_test = train_test_split(\n    X, y, test_size=0.2, shuffle=True)\n\n# Create a classifier.\nhc = HowsoClassifier()\n\n# Fit the training data.\nprint(\"Training on a random selection of 80% of the data.\")\nhc.fit(X_train, y_train)\n\n# Test against the reserved test data.\nprint(\"Scoring against 20% reserve test data:\")\nscore = hc.score(X_test, y_test)\n\n# Print the resulting accuracy.\nprint(score)\n\n# Detailed prediction results\nresults = hc.describe_prediction(X_test)\nprint(\"Getting details for most similar cases from the first prediction:\")\npprint(results['explanation']['most_similar_cases'][0])\n\nprint(\"Getting class probabilities and classes for the model:\")\nprobas = hc.predict_proba(X_test)\npprint(probas)\npprint(hc.classes_)"
      ]
    }
  ],
  "metadata": {
    "kernelspec": {
      "display_name": "Python 3",
      "language": "python",
      "name": "python3"
    },
    "language_info": {
      "codemirror_mode": {
        "name": "ipython",
        "version": 3
      },
      "file_extension": ".py",
      "mimetype": "text/x-python",
      "name": "python",
      "nbconvert_exporter": "python",
      "pygments_lexer": "ipython3",
      "version": "3.11.4"
    }
  },
  "nbformat": 4,
  "nbformat_minor": 0
}