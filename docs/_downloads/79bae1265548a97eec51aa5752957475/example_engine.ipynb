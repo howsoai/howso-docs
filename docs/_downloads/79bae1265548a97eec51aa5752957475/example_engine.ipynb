{
  "cells": [
    {
      "cell_type": "code",
      "execution_count": null,
      "metadata": {
        "collapsed": false
      },
      "outputs": [],
      "source": [
        "%matplotlib inline"
      ]
    },
    {
      "cell_type": "markdown",
      "metadata": {},
      "source": [
        "\n\n# Engine Example\n\nAn example to showcase the rich explanations from the Howso client.\n\nHowso Engine allows Python users to access Howso's full functionality\nwith a user friendly API.\n\nBelow is an example use of the :class:`howso.engine.Trainee` class. The\nexample covers the basic steps in a typical Howso workflow:\n\n1. Creation of a trainee.\n2. Training.\n3. Analysis of the trainee.\n4. Reaction by the trainee to new data, which produces predicted values for the action features.\n5. Extraction of audit data that explains the prediction.\n"
      ]
    },
    {
      "cell_type": "code",
      "execution_count": null,
      "metadata": {
        "collapsed": false
      },
      "outputs": [],
      "source": [
        "import os\n\nfrom howso import engine\nfrom howso.utilities import infer_feature_attributes\nimport pandas as pd\nfrom pprint import pprint\n# sphinx_gallery_thumbnail_path = '_static/gallery/howso-ai.png'\n\n# Get path of breast cancer data included in the python package.\ndata_path = os.path.join(\"breast_cancer.csv\")\n\n# Read in the breast cancer data.\nprint(\"Reading breast cancer data set.\")\ndf = pd.read_csv(data_path)\n# Define features for the trainee.\nfeatures = infer_feature_attributes(df)\nfeature_names = df.columns.tolist()\naction_features = feature_names[-1:]\ncontext_features = feature_names[:-1]\n\n# Shuffle the data.\ndf = df.sample(frac=1).reset_index(drop=True)\n\n# Split the data into an 80% training set and 20% test set.\ntest_percent = 0.2\ndata_train = df[:int(len(df) * (1 - test_percent))]\ndata_test = df[int(len(df) * -1 * test_percent):]\n# Remove the target column from the test set\ndata_test_no_target = data_test.drop(action_features, axis=1)\n\n# Create the trainee, using a context manager so resources are released\n# once complete.\nwith engine.Trainee(features=features) as t:\n    # Train the cases into the trainee.\n    print(\"Training on a random selection of 80% of the data.\")\n    t.train(data_train)\n    print(f\"Number of trained cases: {t.get_num_training_cases()}\")\n\n    # Run analysis on the trainee.\n    print(\"Analyzing the trainee.\")\n    t.analyze(context_features, action_features)\n\n    # React to the trainee with the context feature values.\n    print(\"Reacting to 20% reserve test data.\")\n    details = {'feature_mda': True,\n               'feature_residuals': True,\n               'influential_cases': True,\n               'num_most_similar_cases': 3,\n               'num_boundary_cases': 3,\n               'case_feature_residuals': True}\n    result = t.react(\n        data_test_no_target,\n        action_features=action_features,\n        context_features=context_features,\n        details=details)\n\n    # Retrieve the prediction stats from the trainee\n    t.react_into_trainee(residuals=True)\n    stats = t.get_prediction_stats(stats=['accuracy', 'mae'])\n    accuracy = stats[action_features[0]]['accuracy']\n    mae = stats[action_features[0]]['mae']\n\n# Print the accuracy of the reaction\nprint(\"Prediction stats:\")\nprint(f\"Accuracy: {accuracy:.1%}\")\nprint(f\"Mean Absolute Error: {mae}\")\n\n# Print a detailed result from audit details.\nprint(\"Printing details for most similar cases from the first prediction:\")\npprint(result['explanation']['most_similar_cases'][0])"
      ]
    }
  ],
  "metadata": {
    "kernelspec": {
      "display_name": "Python 3",
      "language": "python",
      "name": "python3"
    },
    "language_info": {
      "codemirror_mode": {
        "name": "ipython",
        "version": 3
      },
      "file_extension": ".py",
      "mimetype": "text/x-python",
      "name": "python",
      "nbconvert_exporter": "python",
      "pygments_lexer": "ipython3",
      "version": "3.11.4"
    }
  },
  "nbformat": 4,
  "nbformat_minor": 0
}